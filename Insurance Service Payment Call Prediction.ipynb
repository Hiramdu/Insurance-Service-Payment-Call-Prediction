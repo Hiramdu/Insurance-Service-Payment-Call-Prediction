{
 "cells": [
  {
   "cell_type": "markdown",
   "metadata": {},
   "source": [
    "   #                           Insurance Service Payment Call Prediction"
   ]
  },
  {
   "cell_type": "code",
   "execution_count": 1,
   "metadata": {},
   "outputs": [],
   "source": [
    "import numpy as np\n",
    "import pandas as pd\n",
    "import scipy as sp\n",
    "import re\n",
    "import random\n",
    "from IPython.display import display\n",
    "import seaborn as sns\n",
    "from matplotlib import pyplot as plt\n",
    "import matplotlib as mpl\n",
    "%matplotlib inline\n",
    "\n",
    "from sklearn.datasets import make_classification\n",
    "from sklearn.utils import shuffle\n",
    "from imblearn.under_sampling import RandomUnderSampler\n",
    "from sklearn.model_selection import train_test_split\n",
    "from sklearn.model_selection import cross_val_score\n",
    "from sklearn import ensemble\n",
    "from sklearn.ensemble import RandomForestClassifier, GradientBoostingClassifier, BaggingClassifier\n",
    "from sklearn.linear_model import LogisticRegression, LogisticRegressionCV, RidgeClassifierCV, LassoCV\n",
    "from sklearn.metrics import roc_auc_score, make_scorer, confusion_matrix, classification_report, f1_score\n",
    "from sklearn.model_selection import GridSearchCV\n",
    "from sklearn.neighbors import KNeighborsClassifier"
   ]
  },
  {
   "cell_type": "markdown",
   "metadata": {},
   "source": [
    "# Load Dataset"
   ]
  },
  {
   "cell_type": "code",
   "execution_count": 2,
   "metadata": {},
   "outputs": [
    {
     "data": {
      "text/html": [
       "<div>\n",
       "<style scoped>\n",
       "    .dataframe tbody tr th:only-of-type {\n",
       "        vertical-align: middle;\n",
       "    }\n",
       "\n",
       "    .dataframe tbody tr th {\n",
       "        vertical-align: top;\n",
       "    }\n",
       "\n",
       "    .dataframe thead th {\n",
       "        text-align: right;\n",
       "    }\n",
       "</style>\n",
       "<table border=\"1\" class=\"dataframe\">\n",
       "  <thead>\n",
       "    <tr style=\"text-align: right;\">\n",
       "      <th></th>\n",
       "      <th>DATE_FOR</th>\n",
       "      <th>RTD_ST_CD</th>\n",
       "      <th>CustomerSegment</th>\n",
       "      <th>Tenure</th>\n",
       "      <th>Age</th>\n",
       "      <th>MART_STATUS</th>\n",
       "      <th>GENDER</th>\n",
       "      <th>CHANNEL1_6M</th>\n",
       "      <th>CHANNEL2_6M</th>\n",
       "      <th>CHANNEL3_6M</th>\n",
       "      <th>...</th>\n",
       "      <th>CHANNEL5_3M</th>\n",
       "      <th>METHOD1_3M</th>\n",
       "      <th>PAYMENTS_3M</th>\n",
       "      <th>NOT_DI_3M</th>\n",
       "      <th>NOT_DI_6M</th>\n",
       "      <th>EVENT1_30_FLAG</th>\n",
       "      <th>EVENT2_90_SUM</th>\n",
       "      <th>LOGINS</th>\n",
       "      <th>POLICYPURCHASECHANNEL</th>\n",
       "      <th>Call_Flag</th>\n",
       "    </tr>\n",
       "  </thead>\n",
       "  <tbody>\n",
       "    <tr>\n",
       "      <td>0</td>\n",
       "      <td>5/19/2014</td>\n",
       "      <td>ST_S0</td>\n",
       "      <td>1</td>\n",
       "      <td>16.175222</td>\n",
       "      <td>78.403833</td>\n",
       "      <td>MS_S0</td>\n",
       "      <td>F</td>\n",
       "      <td>0.0</td>\n",
       "      <td>0.0</td>\n",
       "      <td>1.0</td>\n",
       "      <td>...</td>\n",
       "      <td>2</td>\n",
       "      <td>0</td>\n",
       "      <td>3</td>\n",
       "      <td>0</td>\n",
       "      <td>0</td>\n",
       "      <td>0</td>\n",
       "      <td>0</td>\n",
       "      <td>0</td>\n",
       "      <td>0</td>\n",
       "      <td>0</td>\n",
       "    </tr>\n",
       "    <tr>\n",
       "      <td>1</td>\n",
       "      <td>5/17/2014</td>\n",
       "      <td>ST_S0</td>\n",
       "      <td>1</td>\n",
       "      <td>15.931554</td>\n",
       "      <td>70.989733</td>\n",
       "      <td>MS_S1</td>\n",
       "      <td>F</td>\n",
       "      <td>0.0</td>\n",
       "      <td>6.0</td>\n",
       "      <td>0.0</td>\n",
       "      <td>...</td>\n",
       "      <td>0</td>\n",
       "      <td>3</td>\n",
       "      <td>3</td>\n",
       "      <td>0</td>\n",
       "      <td>0</td>\n",
       "      <td>0</td>\n",
       "      <td>0</td>\n",
       "      <td>0</td>\n",
       "      <td>0</td>\n",
       "      <td>0</td>\n",
       "    </tr>\n",
       "    <tr>\n",
       "      <td>2</td>\n",
       "      <td>5/15/2014</td>\n",
       "      <td>ST_S0</td>\n",
       "      <td>1</td>\n",
       "      <td>15.937029</td>\n",
       "      <td>87.578371</td>\n",
       "      <td>MS_S2</td>\n",
       "      <td>M</td>\n",
       "      <td>0.0</td>\n",
       "      <td>0.0</td>\n",
       "      <td>10.0</td>\n",
       "      <td>...</td>\n",
       "      <td>0</td>\n",
       "      <td>0</td>\n",
       "      <td>6</td>\n",
       "      <td>0</td>\n",
       "      <td>0</td>\n",
       "      <td>0</td>\n",
       "      <td>0</td>\n",
       "      <td>0</td>\n",
       "      <td>0</td>\n",
       "      <td>0</td>\n",
       "    </tr>\n",
       "    <tr>\n",
       "      <td>3</td>\n",
       "      <td>5/16/2014</td>\n",
       "      <td>ST_S1</td>\n",
       "      <td>1</td>\n",
       "      <td>15.934292</td>\n",
       "      <td>68.438056</td>\n",
       "      <td>MS_S2</td>\n",
       "      <td>M</td>\n",
       "      <td>0.0</td>\n",
       "      <td>0.0</td>\n",
       "      <td>1.0</td>\n",
       "      <td>...</td>\n",
       "      <td>0</td>\n",
       "      <td>0</td>\n",
       "      <td>0</td>\n",
       "      <td>0</td>\n",
       "      <td>0</td>\n",
       "      <td>0</td>\n",
       "      <td>0</td>\n",
       "      <td>0</td>\n",
       "      <td>1</td>\n",
       "      <td>0</td>\n",
       "    </tr>\n",
       "    <tr>\n",
       "      <td>4</td>\n",
       "      <td>5/20/2014</td>\n",
       "      <td>ST_S0</td>\n",
       "      <td>1</td>\n",
       "      <td>15.501711</td>\n",
       "      <td>80.514716</td>\n",
       "      <td>MS_S0</td>\n",
       "      <td>F</td>\n",
       "      <td>0.0</td>\n",
       "      <td>0.0</td>\n",
       "      <td>1.0</td>\n",
       "      <td>...</td>\n",
       "      <td>0</td>\n",
       "      <td>0</td>\n",
       "      <td>1</td>\n",
       "      <td>0</td>\n",
       "      <td>0</td>\n",
       "      <td>0</td>\n",
       "      <td>0</td>\n",
       "      <td>0</td>\n",
       "      <td>0</td>\n",
       "      <td>0</td>\n",
       "    </tr>\n",
       "  </tbody>\n",
       "</table>\n",
       "<p>5 rows × 29 columns</p>\n",
       "</div>"
      ],
      "text/plain": [
       "    DATE_FOR RTD_ST_CD CustomerSegment     Tenure        Age MART_STATUS  \\\n",
       "0  5/19/2014     ST_S0               1  16.175222  78.403833       MS_S0   \n",
       "1  5/17/2014     ST_S0               1  15.931554  70.989733       MS_S1   \n",
       "2  5/15/2014     ST_S0               1  15.937029  87.578371       MS_S2   \n",
       "3  5/16/2014     ST_S1               1  15.934292  68.438056       MS_S2   \n",
       "4  5/20/2014     ST_S0               1  15.501711  80.514716       MS_S0   \n",
       "\n",
       "  GENDER  CHANNEL1_6M  CHANNEL2_6M  CHANNEL3_6M  ...  CHANNEL5_3M  METHOD1_3M  \\\n",
       "0      F          0.0          0.0          1.0  ...            2           0   \n",
       "1      F          0.0          6.0          0.0  ...            0           3   \n",
       "2      M          0.0          0.0         10.0  ...            0           0   \n",
       "3      M          0.0          0.0          1.0  ...            0           0   \n",
       "4      F          0.0          0.0          1.0  ...            0           0   \n",
       "\n",
       "   PAYMENTS_3M  NOT_DI_3M  NOT_DI_6M  EVENT1_30_FLAG  EVENT2_90_SUM  LOGINS  \\\n",
       "0            3          0          0               0              0       0   \n",
       "1            3          0          0               0              0       0   \n",
       "2            6          0          0               0              0       0   \n",
       "3            0          0          0               0              0       0   \n",
       "4            1          0          0               0              0       0   \n",
       "\n",
       "   POLICYPURCHASECHANNEL  Call_Flag  \n",
       "0                      0          0  \n",
       "1                      0          0  \n",
       "2                      0          0  \n",
       "3                      1          0  \n",
       "4                      0          0  \n",
       "\n",
       "[5 rows x 29 columns]"
      ]
     },
     "execution_count": 2,
     "metadata": {},
     "output_type": "execute_result"
    }
   ],
   "source": [
    "df_raw = pd.read_csv('insurance.csv')\n",
    "df_raw.head()"
   ]
  },
  {
   "cell_type": "markdown",
   "metadata": {},
   "source": [
    "Investigate data shape, data types."
   ]
  },
  {
   "cell_type": "code",
   "execution_count": 3,
   "metadata": {},
   "outputs": [
    {
     "name": "stdout",
     "output_type": "stream",
     "text": [
      "Data Shape: (130086, 29)\n",
      "Data Dtypes:\n",
      " DATE_FOR                  object\n",
      "RTD_ST_CD                 object\n",
      "CustomerSegment           object\n",
      "Tenure                   float64\n",
      "Age                      float64\n",
      "MART_STATUS               object\n",
      "GENDER                    object\n",
      "CHANNEL1_6M              float64\n",
      "CHANNEL2_6M              float64\n",
      "CHANNEL3_6M              float64\n",
      "CHANNEL4_6M              float64\n",
      "CHANNEL5_6M              float64\n",
      "METHOD1_6M               float64\n",
      "RECENT_PAYMENT           float64\n",
      "PAYMENTS_6M              float64\n",
      "CHANNEL1_3M                int64\n",
      "CHANNEL2_3M                int64\n",
      "CHANNEL3_3M                int64\n",
      "CHANNEL4_3M                int64\n",
      "CHANNEL5_3M                int64\n",
      "METHOD1_3M                 int64\n",
      "PAYMENTS_3M                int64\n",
      "NOT_DI_3M                  int64\n",
      "NOT_DI_6M                  int64\n",
      "EVENT1_30_FLAG             int64\n",
      "EVENT2_90_SUM              int64\n",
      "LOGINS                     int64\n",
      "POLICYPURCHASECHANNEL      int64\n",
      "Call_Flag                  int64\n",
      "dtype: object\n"
     ]
    }
   ],
   "source": [
    "print(\"Data Shape:\", df_raw.shape)\n",
    "print(\"Data Dtypes:\\n\", df_raw.dtypes)"
   ]
  },
  {
   "cell_type": "markdown",
   "metadata": {},
   "source": [
    "# EDA & Data Preprocessing"
   ]
  },
  {
   "cell_type": "code",
   "execution_count": 4,
   "metadata": {},
   "outputs": [
    {
     "name": "stdout",
     "output_type": "stream",
     "text": [
      "Missing Values: DATE_FOR                   0\n",
      "RTD_ST_CD                  0\n",
      "CustomerSegment            0\n",
      "Tenure                     0\n",
      "Age                        0\n",
      "MART_STATUS                0\n",
      "GENDER                     0\n",
      "CHANNEL1_6M              809\n",
      "CHANNEL2_6M              809\n",
      "CHANNEL3_6M              809\n",
      "CHANNEL4_6M              809\n",
      "CHANNEL5_6M              809\n",
      "METHOD1_6M               809\n",
      "RECENT_PAYMENT           809\n",
      "PAYMENTS_6M              809\n",
      "CHANNEL1_3M                0\n",
      "CHANNEL2_3M                0\n",
      "CHANNEL3_3M                0\n",
      "CHANNEL4_3M                0\n",
      "CHANNEL5_3M                0\n",
      "METHOD1_3M                 0\n",
      "PAYMENTS_3M                0\n",
      "NOT_DI_3M                  0\n",
      "NOT_DI_6M                  0\n",
      "EVENT1_30_FLAG             0\n",
      "EVENT2_90_SUM              0\n",
      "LOGINS                     0\n",
      "POLICYPURCHASECHANNEL      0\n",
      "Call_Flag                  0\n",
      "dtype: int64\n"
     ]
    }
   ],
   "source": [
    "print(\"Missing Values:\", df_raw.isnull().sum())"
   ]
  },
  {
   "cell_type": "markdown",
   "metadata": {},
   "source": [
    "There are 809 missing values in data, which should be removed from the data set."
   ]
  },
  {
   "cell_type": "code",
   "execution_count": 5,
   "metadata": {},
   "outputs": [
    {
     "name": "stdout",
     "output_type": "stream",
     "text": [
      "8 unique Values of DATE_FOR ['5/19/2014' '5/17/2014' '5/15/2014' '5/16/2014' '5/20/2014' '5/14/2014'\n",
      " '5/13/2014' '5/18/2014'] \n",
      "\n",
      "51 unique Values of RTD_ST_CD ['ST_S0' 'ST_S1' 'ST_S2' 'ST_S3' 'ST_S4' 'ST_S5' 'ST_S6' 'ST_S7' 'ST_S8'\n",
      " 'ST_S9' 'ST_S10' 'ST_S11' 'ST_S12' 'ST_S13' 'ST_S14' 'ST_S15' 'ST_S16'\n",
      " 'ST_S17' 'ST_S18' 'ST_S19' 'ST_S20' 'ST_S21' 'ST_S22' 'ST_S23' 'ST_S24'\n",
      " 'ST_S25' 'ST_S26' 'ST_S27' 'ST_S28' 'ST_S29' 'ST_S30' 'ST_S31' 'ST_S32'\n",
      " 'ST_S33' 'ST_S34' 'ST_S35' 'ST_S36' 'ST_S37' 'ST_S38' 'ST_S39' 'ST_S40'\n",
      " 'ST_S41' 'ST_S42' 'ST_S43' 'ST_S44' 'ST_S45' 'ST_S46' 'ST_S47' 'ST_S48'\n",
      " 'ST_S49' 'ST_S50'] \n",
      "\n",
      "4 unique Values of CustomerSegment ['1' '3' '2' 'NONE'] \n",
      "\n",
      "10228 unique Values of Tenure [16.175222 15.931554 15.937029 ...  0.049281  0.054757  0.046543] \n",
      "\n",
      "22347 unique Values of Age [78.403833 70.989733 87.578371 ... 91.895962 22.099932 21.489391] \n",
      "\n",
      "5 unique Values of MART_STATUS ['MS_S0' 'MS_S1' 'MS_S2' 'MS_S3' 'MS_S4'] \n",
      "\n",
      "2 unique Values of GENDER ['F' 'M'] \n",
      "\n",
      "14 unique Values of CHANNEL1_6M [ 0.  6.  1.  2.  5. nan  3.  7.  4.  9.  8. 11. 10. 12.] \n",
      "\n",
      "18 unique Values of CHANNEL2_6M [ 0.  6.  4.  2.  5.  3.  1. nan  8.  7. 12. 10.  9. 23. 11. 53. 13. 17.] \n",
      "\n",
      "15 unique Values of CHANNEL3_6M [ 1.  0. 10.  6.  3.  5.  4.  7.  2. nan  9.  8. 26. 12. 11.] \n",
      "\n",
      "19 unique Values of CHANNEL4_6M [ 0.  1.  4.  2.  6.  5.  3. nan  7. 12.  8. 10.  9. 14. 15. 18. 11. 13.\n",
      " 17.] \n",
      "\n",
      "25 unique Values of CHANNEL5_6M [ 5.  0.  6.  4.  3.  7.  1.  2. nan 12.  8. 17. 13. 14.  9. 11. 10. 23.\n",
      " 24. 18. 15. 29. 25. 26. 16.] \n",
      "\n",
      "26 unique Values of METHOD1_6M [ 0.  6.  4.  1.  2.  5.  3.  7. nan  8. 12. 16.  9. 10. 11. 14. 15. 17.\n",
      " 13. 24. 18. 20. 19. 53. 21. 23.] \n",
      "\n",
      "3 unique Values of RECENT_PAYMENT [ 0.  1. nan] \n",
      "\n",
      "30 unique Values of PAYMENTS_6M [ 6. 10.  1.  4.  5.  2.  7.  3.  8. nan 12. 14. 11.  9. 18. 13. 15. 16.\n",
      " 23. 26. 21. 22. 17. 33. 29. 24. 20. 53. 27. 19.] \n",
      "\n",
      "7 unique Values of CHANNEL1_3M [0 3 2 1 5 4 6] \n",
      "\n",
      "11 unique Values of CHANNEL2_3M [ 0  3  1  2  5  4  6 11  8 36  7] \n",
      "\n",
      "9 unique Values of CHANNEL3_3M [ 1  0  6  3  2  4  5 16  7] \n",
      "\n",
      "10 unique Values of CHANNEL4_3M [ 0  2  1  3  4  6  5  8 10  7] \n",
      "\n",
      "16 unique Values of CHANNEL5_3M [ 2  0  3  1  4  6  5  8  7 13  9 10 11 16 12 14] \n",
      "\n",
      "16 unique Values of METHOD1_3M [ 0  3  1  2  4  5  6  9  8  7 14 10 12 36 11 13] \n",
      "\n",
      "20 unique Values of PAYMENTS_3M [ 3  6  0  1  4  2  5  8  7  9 13 16 11 10 21 17 12 36 18 14] \n",
      "\n",
      "2 unique Values of NOT_DI_3M [0 1] \n",
      "\n",
      "2 unique Values of NOT_DI_6M [0 1] \n",
      "\n",
      "1 unique Values of EVENT1_30_FLAG [0] \n",
      "\n",
      "5 unique Values of EVENT2_90_SUM [0 2 1 3 4] \n",
      "\n",
      "45 unique Values of LOGINS [ 0  1  2  4  3  6  5  7 17 23  8 13 10 22 16  9 15 14 11 18 25 38 12 35\n",
      " 20 36 40 19 26 27 29 32 24 41 31 42 30 28 37 21 34 44 45 33 43] \n",
      "\n",
      "2 unique Values of POLICYPURCHASECHANNEL [0 1] \n",
      "\n",
      "2 unique Values of Call_Flag [0 1] \n",
      "\n"
     ]
    }
   ],
   "source": [
    "for var in df_raw:\n",
    "    print(df_raw[var].unique().shape[0], \"unique Values of\", var, df_raw[var].unique(), \"\\n\")"
   ]
  },
  {
   "cell_type": "code",
   "execution_count": 6,
   "metadata": {},
   "outputs": [
    {
     "name": "stdout",
     "output_type": "stream",
     "text": [
      "Data Shape: (129277, 29)\n"
     ]
    },
    {
     "data": {
      "text/html": [
       "<div>\n",
       "<style scoped>\n",
       "    .dataframe tbody tr th:only-of-type {\n",
       "        vertical-align: middle;\n",
       "    }\n",
       "\n",
       "    .dataframe tbody tr th {\n",
       "        vertical-align: top;\n",
       "    }\n",
       "\n",
       "    .dataframe thead th {\n",
       "        text-align: right;\n",
       "    }\n",
       "</style>\n",
       "<table border=\"1\" class=\"dataframe\">\n",
       "  <thead>\n",
       "    <tr style=\"text-align: right;\">\n",
       "      <th></th>\n",
       "      <th>Tenure</th>\n",
       "      <th>Age</th>\n",
       "      <th>CHANNEL1_6M</th>\n",
       "      <th>CHANNEL2_6M</th>\n",
       "      <th>CHANNEL3_6M</th>\n",
       "      <th>CHANNEL4_6M</th>\n",
       "      <th>CHANNEL5_6M</th>\n",
       "      <th>METHOD1_6M</th>\n",
       "      <th>RECENT_PAYMENT</th>\n",
       "      <th>PAYMENTS_6M</th>\n",
       "      <th>...</th>\n",
       "      <th>CHANNEL5_3M</th>\n",
       "      <th>METHOD1_3M</th>\n",
       "      <th>PAYMENTS_3M</th>\n",
       "      <th>NOT_DI_3M</th>\n",
       "      <th>NOT_DI_6M</th>\n",
       "      <th>EVENT1_30_FLAG</th>\n",
       "      <th>EVENT2_90_SUM</th>\n",
       "      <th>LOGINS</th>\n",
       "      <th>POLICYPURCHASECHANNEL</th>\n",
       "      <th>Call_Flag</th>\n",
       "    </tr>\n",
       "  </thead>\n",
       "  <tbody>\n",
       "    <tr>\n",
       "      <td>count</td>\n",
       "      <td>129277.000000</td>\n",
       "      <td>129277.000000</td>\n",
       "      <td>129277.000000</td>\n",
       "      <td>129277.000000</td>\n",
       "      <td>129277.000000</td>\n",
       "      <td>129277.000000</td>\n",
       "      <td>129277.000000</td>\n",
       "      <td>129277.000000</td>\n",
       "      <td>129277.000000</td>\n",
       "      <td>129277.000000</td>\n",
       "      <td>...</td>\n",
       "      <td>129277.000000</td>\n",
       "      <td>129277.000000</td>\n",
       "      <td>129277.000000</td>\n",
       "      <td>129277.000000</td>\n",
       "      <td>129277.000000</td>\n",
       "      <td>129277.0</td>\n",
       "      <td>129277.000000</td>\n",
       "      <td>129277.000000</td>\n",
       "      <td>129277.000000</td>\n",
       "      <td>129277.000000</td>\n",
       "    </tr>\n",
       "    <tr>\n",
       "      <td>mean</td>\n",
       "      <td>8.591581</td>\n",
       "      <td>48.813929</td>\n",
       "      <td>0.261810</td>\n",
       "      <td>0.948467</td>\n",
       "      <td>0.811652</td>\n",
       "      <td>0.401216</td>\n",
       "      <td>0.569823</td>\n",
       "      <td>1.834425</td>\n",
       "      <td>0.105680</td>\n",
       "      <td>4.848333</td>\n",
       "      <td>...</td>\n",
       "      <td>0.285333</td>\n",
       "      <td>0.914494</td>\n",
       "      <td>2.427145</td>\n",
       "      <td>0.056019</td>\n",
       "      <td>0.080502</td>\n",
       "      <td>0.0</td>\n",
       "      <td>0.193522</td>\n",
       "      <td>0.953774</td>\n",
       "      <td>0.131284</td>\n",
       "      <td>0.036549</td>\n",
       "    </tr>\n",
       "    <tr>\n",
       "      <td>std</td>\n",
       "      <td>7.297798</td>\n",
       "      <td>14.037131</td>\n",
       "      <td>1.092346</td>\n",
       "      <td>1.880123</td>\n",
       "      <td>1.824188</td>\n",
       "      <td>1.065413</td>\n",
       "      <td>1.628655</td>\n",
       "      <td>2.596754</td>\n",
       "      <td>0.307429</td>\n",
       "      <td>2.027548</td>\n",
       "      <td>...</td>\n",
       "      <td>0.850155</td>\n",
       "      <td>1.388627</td>\n",
       "      <td>1.211655</td>\n",
       "      <td>0.229960</td>\n",
       "      <td>0.272069</td>\n",
       "      <td>0.0</td>\n",
       "      <td>0.509437</td>\n",
       "      <td>2.149006</td>\n",
       "      <td>0.337712</td>\n",
       "      <td>0.187654</td>\n",
       "    </tr>\n",
       "    <tr>\n",
       "      <td>min</td>\n",
       "      <td>0.032854</td>\n",
       "      <td>16.689938</td>\n",
       "      <td>0.000000</td>\n",
       "      <td>0.000000</td>\n",
       "      <td>0.000000</td>\n",
       "      <td>0.000000</td>\n",
       "      <td>0.000000</td>\n",
       "      <td>0.000000</td>\n",
       "      <td>0.000000</td>\n",
       "      <td>1.000000</td>\n",
       "      <td>...</td>\n",
       "      <td>0.000000</td>\n",
       "      <td>0.000000</td>\n",
       "      <td>0.000000</td>\n",
       "      <td>0.000000</td>\n",
       "      <td>0.000000</td>\n",
       "      <td>0.0</td>\n",
       "      <td>0.000000</td>\n",
       "      <td>0.000000</td>\n",
       "      <td>0.000000</td>\n",
       "      <td>0.000000</td>\n",
       "    </tr>\n",
       "    <tr>\n",
       "      <td>25%</td>\n",
       "      <td>3.252567</td>\n",
       "      <td>37.845311</td>\n",
       "      <td>0.000000</td>\n",
       "      <td>0.000000</td>\n",
       "      <td>0.000000</td>\n",
       "      <td>0.000000</td>\n",
       "      <td>0.000000</td>\n",
       "      <td>0.000000</td>\n",
       "      <td>0.000000</td>\n",
       "      <td>4.000000</td>\n",
       "      <td>...</td>\n",
       "      <td>0.000000</td>\n",
       "      <td>0.000000</td>\n",
       "      <td>2.000000</td>\n",
       "      <td>0.000000</td>\n",
       "      <td>0.000000</td>\n",
       "      <td>0.0</td>\n",
       "      <td>0.000000</td>\n",
       "      <td>0.000000</td>\n",
       "      <td>0.000000</td>\n",
       "      <td>0.000000</td>\n",
       "    </tr>\n",
       "    <tr>\n",
       "      <td>50%</td>\n",
       "      <td>7.006160</td>\n",
       "      <td>49.111567</td>\n",
       "      <td>0.000000</td>\n",
       "      <td>0.000000</td>\n",
       "      <td>0.000000</td>\n",
       "      <td>0.000000</td>\n",
       "      <td>0.000000</td>\n",
       "      <td>0.000000</td>\n",
       "      <td>0.000000</td>\n",
       "      <td>6.000000</td>\n",
       "      <td>...</td>\n",
       "      <td>0.000000</td>\n",
       "      <td>0.000000</td>\n",
       "      <td>3.000000</td>\n",
       "      <td>0.000000</td>\n",
       "      <td>0.000000</td>\n",
       "      <td>0.0</td>\n",
       "      <td>0.000000</td>\n",
       "      <td>0.000000</td>\n",
       "      <td>0.000000</td>\n",
       "      <td>0.000000</td>\n",
       "    </tr>\n",
       "    <tr>\n",
       "      <td>75%</td>\n",
       "      <td>11.630390</td>\n",
       "      <td>58.830938</td>\n",
       "      <td>0.000000</td>\n",
       "      <td>1.000000</td>\n",
       "      <td>0.000000</td>\n",
       "      <td>0.000000</td>\n",
       "      <td>0.000000</td>\n",
       "      <td>4.000000</td>\n",
       "      <td>0.000000</td>\n",
       "      <td>6.000000</td>\n",
       "      <td>...</td>\n",
       "      <td>0.000000</td>\n",
       "      <td>2.000000</td>\n",
       "      <td>3.000000</td>\n",
       "      <td>0.000000</td>\n",
       "      <td>0.000000</td>\n",
       "      <td>0.0</td>\n",
       "      <td>0.000000</td>\n",
       "      <td>1.000000</td>\n",
       "      <td>0.000000</td>\n",
       "      <td>0.000000</td>\n",
       "    </tr>\n",
       "    <tr>\n",
       "      <td>max</td>\n",
       "      <td>63.091034</td>\n",
       "      <td>99.348392</td>\n",
       "      <td>12.000000</td>\n",
       "      <td>53.000000</td>\n",
       "      <td>26.000000</td>\n",
       "      <td>18.000000</td>\n",
       "      <td>29.000000</td>\n",
       "      <td>53.000000</td>\n",
       "      <td>1.000000</td>\n",
       "      <td>53.000000</td>\n",
       "      <td>...</td>\n",
       "      <td>16.000000</td>\n",
       "      <td>36.000000</td>\n",
       "      <td>36.000000</td>\n",
       "      <td>1.000000</td>\n",
       "      <td>1.000000</td>\n",
       "      <td>0.0</td>\n",
       "      <td>4.000000</td>\n",
       "      <td>45.000000</td>\n",
       "      <td>1.000000</td>\n",
       "      <td>1.000000</td>\n",
       "    </tr>\n",
       "  </tbody>\n",
       "</table>\n",
       "<p>8 rows × 24 columns</p>\n",
       "</div>"
      ],
      "text/plain": [
       "              Tenure            Age    CHANNEL1_6M    CHANNEL2_6M  \\\n",
       "count  129277.000000  129277.000000  129277.000000  129277.000000   \n",
       "mean        8.591581      48.813929       0.261810       0.948467   \n",
       "std         7.297798      14.037131       1.092346       1.880123   \n",
       "min         0.032854      16.689938       0.000000       0.000000   \n",
       "25%         3.252567      37.845311       0.000000       0.000000   \n",
       "50%         7.006160      49.111567       0.000000       0.000000   \n",
       "75%        11.630390      58.830938       0.000000       1.000000   \n",
       "max        63.091034      99.348392      12.000000      53.000000   \n",
       "\n",
       "         CHANNEL3_6M    CHANNEL4_6M    CHANNEL5_6M     METHOD1_6M  \\\n",
       "count  129277.000000  129277.000000  129277.000000  129277.000000   \n",
       "mean        0.811652       0.401216       0.569823       1.834425   \n",
       "std         1.824188       1.065413       1.628655       2.596754   \n",
       "min         0.000000       0.000000       0.000000       0.000000   \n",
       "25%         0.000000       0.000000       0.000000       0.000000   \n",
       "50%         0.000000       0.000000       0.000000       0.000000   \n",
       "75%         0.000000       0.000000       0.000000       4.000000   \n",
       "max        26.000000      18.000000      29.000000      53.000000   \n",
       "\n",
       "       RECENT_PAYMENT    PAYMENTS_6M  ...    CHANNEL5_3M     METHOD1_3M  \\\n",
       "count   129277.000000  129277.000000  ...  129277.000000  129277.000000   \n",
       "mean         0.105680       4.848333  ...       0.285333       0.914494   \n",
       "std          0.307429       2.027548  ...       0.850155       1.388627   \n",
       "min          0.000000       1.000000  ...       0.000000       0.000000   \n",
       "25%          0.000000       4.000000  ...       0.000000       0.000000   \n",
       "50%          0.000000       6.000000  ...       0.000000       0.000000   \n",
       "75%          0.000000       6.000000  ...       0.000000       2.000000   \n",
       "max          1.000000      53.000000  ...      16.000000      36.000000   \n",
       "\n",
       "         PAYMENTS_3M      NOT_DI_3M      NOT_DI_6M  EVENT1_30_FLAG  \\\n",
       "count  129277.000000  129277.000000  129277.000000        129277.0   \n",
       "mean        2.427145       0.056019       0.080502             0.0   \n",
       "std         1.211655       0.229960       0.272069             0.0   \n",
       "min         0.000000       0.000000       0.000000             0.0   \n",
       "25%         2.000000       0.000000       0.000000             0.0   \n",
       "50%         3.000000       0.000000       0.000000             0.0   \n",
       "75%         3.000000       0.000000       0.000000             0.0   \n",
       "max        36.000000       1.000000       1.000000             0.0   \n",
       "\n",
       "       EVENT2_90_SUM         LOGINS  POLICYPURCHASECHANNEL      Call_Flag  \n",
       "count  129277.000000  129277.000000          129277.000000  129277.000000  \n",
       "mean        0.193522       0.953774               0.131284       0.036549  \n",
       "std         0.509437       2.149006               0.337712       0.187654  \n",
       "min         0.000000       0.000000               0.000000       0.000000  \n",
       "25%         0.000000       0.000000               0.000000       0.000000  \n",
       "50%         0.000000       0.000000               0.000000       0.000000  \n",
       "75%         0.000000       1.000000               0.000000       0.000000  \n",
       "max         4.000000      45.000000               1.000000       1.000000  \n",
       "\n",
       "[8 rows x 24 columns]"
      ]
     },
     "execution_count": 6,
     "metadata": {},
     "output_type": "execute_result"
    }
   ],
   "source": [
    "df_raw.dropna(inplace=True)\n",
    "df_raw.reset_index(drop=True, inplace=True)\n",
    "print(\"Data Shape:\", df_raw.shape)\n",
    "df_raw.describe()"
   ]
  },
  {
   "cell_type": "code",
   "execution_count": 7,
   "metadata": {},
   "outputs": [
    {
     "name": "stdout",
     "output_type": "stream",
     "text": [
      "                 DATE_FOR  RTD_ST_CD  Tenure    Age  MART_STATUS  GENDER  \\\n",
      "CustomerSegment                                                            \n",
      "1                   95349      95349   95349  95349        95349   95349   \n",
      "2                   25226      25226   25226  25226        25226   25226   \n",
      "3                    5019       5019    5019   5019         5019    5019   \n",
      "NONE                 3683       3683    3683   3683         3683    3683   \n",
      "\n",
      "                 CHANNEL1_6M  CHANNEL2_6M  CHANNEL3_6M  CHANNEL4_6M  ...  \\\n",
      "CustomerSegment                                                      ...   \n",
      "1                      95349        95349        95349        95349  ...   \n",
      "2                      25226        25226        25226        25226  ...   \n",
      "3                       5019         5019         5019         5019  ...   \n",
      "NONE                    3683         3683         3683         3683  ...   \n",
      "\n",
      "                 CHANNEL5_3M  METHOD1_3M  PAYMENTS_3M  NOT_DI_3M  NOT_DI_6M  \\\n",
      "CustomerSegment                                                               \n",
      "1                      95349       95349        95349      95349      95349   \n",
      "2                      25226       25226        25226      25226      25226   \n",
      "3                       5019        5019         5019       5019       5019   \n",
      "NONE                    3683        3683         3683       3683       3683   \n",
      "\n",
      "                 EVENT1_30_FLAG  EVENT2_90_SUM  LOGINS  POLICYPURCHASECHANNEL  \\\n",
      "CustomerSegment                                                                 \n",
      "1                         95349          95349   95349                  95349   \n",
      "2                         25226          25226   25226                  25226   \n",
      "3                          5019           5019    5019                   5019   \n",
      "NONE                       3683           3683    3683                   3683   \n",
      "\n",
      "                 Call_Flag  \n",
      "CustomerSegment             \n",
      "1                    95349  \n",
      "2                    25226  \n",
      "3                     5019  \n",
      "NONE                  3683  \n",
      "\n",
      "[4 rows x 28 columns]\n"
     ]
    }
   ],
   "source": [
    "# we find only CustomerSegment exists NONE after scanning all features\n",
    "print(df_raw.groupby(['CustomerSegment']).count())"
   ]
  },
  {
   "cell_type": "code",
   "execution_count": 8,
   "metadata": {},
   "outputs": [],
   "source": [
    "# replace NONE by 0\n",
    "df_raw['CustomerSegment'] = [0 if x == 'NONE' else x for x in df_raw['CustomerSegment']]"
   ]
  },
  {
   "cell_type": "code",
   "execution_count": 9,
   "metadata": {},
   "outputs": [
    {
     "name": "stdout",
     "output_type": "stream",
     "text": [
      "DATE_FOR                 0\n",
      "RTD_ST_CD                0\n",
      "CustomerSegment          0\n",
      "Tenure                   0\n",
      "Age                      0\n",
      "MART_STATUS              0\n",
      "GENDER                   0\n",
      "CHANNEL1_6M              0\n",
      "CHANNEL2_6M              0\n",
      "CHANNEL3_6M              0\n",
      "CHANNEL4_6M              0\n",
      "CHANNEL5_6M              0\n",
      "METHOD1_6M               0\n",
      "RECENT_PAYMENT           0\n",
      "PAYMENTS_6M              0\n",
      "CHANNEL1_3M              0\n",
      "CHANNEL2_3M              0\n",
      "CHANNEL3_3M              0\n",
      "CHANNEL4_3M              0\n",
      "CHANNEL5_3M              0\n",
      "METHOD1_3M               0\n",
      "PAYMENTS_3M              0\n",
      "NOT_DI_3M                0\n",
      "NOT_DI_6M                0\n",
      "EVENT1_30_FLAG           0\n",
      "EVENT2_90_SUM            0\n",
      "LOGINS                   0\n",
      "POLICYPURCHASECHANNEL    0\n",
      "Call_Flag                0\n",
      "dtype: int64\n"
     ]
    }
   ],
   "source": [
    "# check and fill missing data\n",
    "df_raw.isnull().any()\n",
    "print(df_raw.isnull().sum())"
   ]
  },
  {
   "cell_type": "markdown",
   "metadata": {},
   "source": [
    "It demonstrates there are no missing values"
   ]
  },
  {
   "cell_type": "markdown",
   "metadata": {},
   "source": [
    "# Convert non-numerical values to numerical"
   ]
  },
  {
   "cell_type": "code",
   "execution_count": 10,
   "metadata": {},
   "outputs": [],
   "source": [
    "# DATE_FOR convert to mmddyyyy\n",
    "token = [x.rstrip().split('/') for x in df_raw['DATE_FOR']]\n",
    "df_raw['DATE_FOR'] = [x[0] + x[1] + x[2] for x in token]"
   ]
  },
  {
   "cell_type": "code",
   "execution_count": 11,
   "metadata": {},
   "outputs": [],
   "source": [
    "# filter out substring\n",
    "def filter_str_onDataFrame(df, colname, reg):\n",
    "    result = []\n",
    "    for line in df[colname]:\n",
    "        x = re.findall(reg, line)\n",
    "        result.append(''.join(x))\n",
    "    df[colname] = result\n",
    "    \n",
    "# Due to all of the first four characters of RTD_ST_CD and MART_STATUS are same, so I suggest to strip off them.\n",
    "filter_str_onDataFrame(df_raw, 'RTD_ST_CD', '\\d')\n",
    "filter_str_onDataFrame(df_raw, 'MART_STATUS', '\\d')"
   ]
  },
  {
   "cell_type": "code",
   "execution_count": 12,
   "metadata": {},
   "outputs": [],
   "source": [
    "# GENDER convert to 0 for M, 1 for F\n",
    "df_raw['GENDER'] = [0 if line == 'M' else 1 for line in df_raw['GENDER'] ]"
   ]
  },
  {
   "cell_type": "code",
   "execution_count": 13,
   "metadata": {},
   "outputs": [
    {
     "data": {
      "text/html": [
       "<div>\n",
       "<style scoped>\n",
       "    .dataframe tbody tr th:only-of-type {\n",
       "        vertical-align: middle;\n",
       "    }\n",
       "\n",
       "    .dataframe tbody tr th {\n",
       "        vertical-align: top;\n",
       "    }\n",
       "\n",
       "    .dataframe thead th {\n",
       "        text-align: right;\n",
       "    }\n",
       "</style>\n",
       "<table border=\"1\" class=\"dataframe\">\n",
       "  <thead>\n",
       "    <tr style=\"text-align: right;\">\n",
       "      <th></th>\n",
       "      <th>DATE_FOR</th>\n",
       "      <th>RTD_ST_CD</th>\n",
       "      <th>CustomerSegment</th>\n",
       "      <th>Tenure</th>\n",
       "      <th>Age</th>\n",
       "      <th>MART_STATUS</th>\n",
       "      <th>GENDER</th>\n",
       "      <th>CHANNEL1_6M</th>\n",
       "      <th>CHANNEL2_6M</th>\n",
       "      <th>CHANNEL3_6M</th>\n",
       "      <th>...</th>\n",
       "      <th>CHANNEL5_3M</th>\n",
       "      <th>METHOD1_3M</th>\n",
       "      <th>PAYMENTS_3M</th>\n",
       "      <th>NOT_DI_3M</th>\n",
       "      <th>NOT_DI_6M</th>\n",
       "      <th>EVENT1_30_FLAG</th>\n",
       "      <th>EVENT2_90_SUM</th>\n",
       "      <th>LOGINS</th>\n",
       "      <th>POLICYPURCHASECHANNEL</th>\n",
       "      <th>Call_Flag</th>\n",
       "    </tr>\n",
       "  </thead>\n",
       "  <tbody>\n",
       "    <tr>\n",
       "      <td>0</td>\n",
       "      <td>5192014</td>\n",
       "      <td>0</td>\n",
       "      <td>1</td>\n",
       "      <td>16.175222</td>\n",
       "      <td>78.403833</td>\n",
       "      <td>0</td>\n",
       "      <td>1</td>\n",
       "      <td>0.0</td>\n",
       "      <td>0.0</td>\n",
       "      <td>1.0</td>\n",
       "      <td>...</td>\n",
       "      <td>2</td>\n",
       "      <td>0</td>\n",
       "      <td>3</td>\n",
       "      <td>0</td>\n",
       "      <td>0</td>\n",
       "      <td>0</td>\n",
       "      <td>0</td>\n",
       "      <td>0</td>\n",
       "      <td>0</td>\n",
       "      <td>0</td>\n",
       "    </tr>\n",
       "    <tr>\n",
       "      <td>1</td>\n",
       "      <td>5172014</td>\n",
       "      <td>0</td>\n",
       "      <td>1</td>\n",
       "      <td>15.931554</td>\n",
       "      <td>70.989733</td>\n",
       "      <td>1</td>\n",
       "      <td>1</td>\n",
       "      <td>0.0</td>\n",
       "      <td>6.0</td>\n",
       "      <td>0.0</td>\n",
       "      <td>...</td>\n",
       "      <td>0</td>\n",
       "      <td>3</td>\n",
       "      <td>3</td>\n",
       "      <td>0</td>\n",
       "      <td>0</td>\n",
       "      <td>0</td>\n",
       "      <td>0</td>\n",
       "      <td>0</td>\n",
       "      <td>0</td>\n",
       "      <td>0</td>\n",
       "    </tr>\n",
       "    <tr>\n",
       "      <td>2</td>\n",
       "      <td>5152014</td>\n",
       "      <td>0</td>\n",
       "      <td>1</td>\n",
       "      <td>15.937029</td>\n",
       "      <td>87.578371</td>\n",
       "      <td>2</td>\n",
       "      <td>0</td>\n",
       "      <td>0.0</td>\n",
       "      <td>0.0</td>\n",
       "      <td>10.0</td>\n",
       "      <td>...</td>\n",
       "      <td>0</td>\n",
       "      <td>0</td>\n",
       "      <td>6</td>\n",
       "      <td>0</td>\n",
       "      <td>0</td>\n",
       "      <td>0</td>\n",
       "      <td>0</td>\n",
       "      <td>0</td>\n",
       "      <td>0</td>\n",
       "      <td>0</td>\n",
       "    </tr>\n",
       "    <tr>\n",
       "      <td>3</td>\n",
       "      <td>5162014</td>\n",
       "      <td>1</td>\n",
       "      <td>1</td>\n",
       "      <td>15.934292</td>\n",
       "      <td>68.438056</td>\n",
       "      <td>2</td>\n",
       "      <td>0</td>\n",
       "      <td>0.0</td>\n",
       "      <td>0.0</td>\n",
       "      <td>1.0</td>\n",
       "      <td>...</td>\n",
       "      <td>0</td>\n",
       "      <td>0</td>\n",
       "      <td>0</td>\n",
       "      <td>0</td>\n",
       "      <td>0</td>\n",
       "      <td>0</td>\n",
       "      <td>0</td>\n",
       "      <td>0</td>\n",
       "      <td>1</td>\n",
       "      <td>0</td>\n",
       "    </tr>\n",
       "    <tr>\n",
       "      <td>4</td>\n",
       "      <td>5202014</td>\n",
       "      <td>0</td>\n",
       "      <td>1</td>\n",
       "      <td>15.501711</td>\n",
       "      <td>80.514716</td>\n",
       "      <td>0</td>\n",
       "      <td>1</td>\n",
       "      <td>0.0</td>\n",
       "      <td>0.0</td>\n",
       "      <td>1.0</td>\n",
       "      <td>...</td>\n",
       "      <td>0</td>\n",
       "      <td>0</td>\n",
       "      <td>1</td>\n",
       "      <td>0</td>\n",
       "      <td>0</td>\n",
       "      <td>0</td>\n",
       "      <td>0</td>\n",
       "      <td>0</td>\n",
       "      <td>0</td>\n",
       "      <td>0</td>\n",
       "    </tr>\n",
       "  </tbody>\n",
       "</table>\n",
       "<p>5 rows × 29 columns</p>\n",
       "</div>"
      ],
      "text/plain": [
       "  DATE_FOR RTD_ST_CD CustomerSegment     Tenure        Age MART_STATUS  \\\n",
       "0  5192014         0               1  16.175222  78.403833           0   \n",
       "1  5172014         0               1  15.931554  70.989733           1   \n",
       "2  5152014         0               1  15.937029  87.578371           2   \n",
       "3  5162014         1               1  15.934292  68.438056           2   \n",
       "4  5202014         0               1  15.501711  80.514716           0   \n",
       "\n",
       "   GENDER  CHANNEL1_6M  CHANNEL2_6M  CHANNEL3_6M  ...  CHANNEL5_3M  \\\n",
       "0       1          0.0          0.0          1.0  ...            2   \n",
       "1       1          0.0          6.0          0.0  ...            0   \n",
       "2       0          0.0          0.0         10.0  ...            0   \n",
       "3       0          0.0          0.0          1.0  ...            0   \n",
       "4       1          0.0          0.0          1.0  ...            0   \n",
       "\n",
       "   METHOD1_3M  PAYMENTS_3M  NOT_DI_3M  NOT_DI_6M  EVENT1_30_FLAG  \\\n",
       "0           0            3          0          0               0   \n",
       "1           3            3          0          0               0   \n",
       "2           0            6          0          0               0   \n",
       "3           0            0          0          0               0   \n",
       "4           0            1          0          0               0   \n",
       "\n",
       "   EVENT2_90_SUM  LOGINS  POLICYPURCHASECHANNEL  Call_Flag  \n",
       "0              0       0                      0          0  \n",
       "1              0       0                      0          0  \n",
       "2              0       0                      0          0  \n",
       "3              0       0                      1          0  \n",
       "4              0       0                      0          0  \n",
       "\n",
       "[5 rows x 29 columns]"
      ]
     },
     "execution_count": 13,
     "metadata": {},
     "output_type": "execute_result"
    }
   ],
   "source": [
    "df_raw.head()"
   ]
  },
  {
   "cell_type": "code",
   "execution_count": 14,
   "metadata": {},
   "outputs": [
    {
     "name": "stdout",
     "output_type": "stream",
     "text": [
      "The shape of whole dataset\n",
      "(129277, 29)\n",
      "The shape of sub dataset with Call_Flag=1\n",
      "(4725, 29)\n",
      "The shape of sub dataset with Call_Flag=0\n",
      "(124552, 29)\n",
      "The ratio of flag1 to flag0 is 0.037935962489562595\n"
     ]
    }
   ],
   "source": [
    "df_flag1 = df_raw[df_raw.Call_Flag>0]\n",
    "df_flag0 = df_raw[df_raw.Call_Flag<1]\n",
    "print('The shape of whole dataset')\n",
    "print(df_raw.shape)\n",
    "print('The shape of sub dataset with Call_Flag=1')\n",
    "print(df_flag1.shape)\n",
    "print('The shape of sub dataset with Call_Flag=0')\n",
    "print(df_flag0.shape)\n",
    "\n",
    "print('The ratio of flag1 to flag0 is', df_flag1.shape[0] / df_flag0.shape[0])"
   ]
  },
  {
   "cell_type": "markdown",
   "metadata": {},
   "source": [
    "# Make data balanced\n",
    "The dataset in unbalanced: Flag1 : Flag0 = 0.0379 : 1 now."
   ]
  },
  {
   "cell_type": "code",
   "execution_count": 15,
   "metadata": {},
   "outputs": [
    {
     "name": "stdout",
     "output_type": "stream",
     "text": [
      "The shape of whole dataset after oversampling\n",
      "(152902, 29)\n"
     ]
    }
   ],
   "source": [
    "# add new DataFrame on specific index row\n",
    "def insert_row_intoDataFrame(idx, df, df_insert):\n",
    "    df_bef = df.iloc[:idx, ]\n",
    "    df_aft = df.iloc[idx:, ]\n",
    "    df = df_bef.append(df_insert).append(df_aft).reset_index(drop = True)\n",
    "    return df\n",
    "\n",
    "# oversample on Flag1\n",
    "num_sample = 5\n",
    "for i in range(num_sample):                   \n",
    "    ran = np.random.uniform(0,1)\n",
    "    idx = int(ran*(df_raw.shape[0]))\n",
    "    df_raw = insert_row_intoDataFrame(idx, df_raw, df_flag1)\n",
    "    \n",
    "df_raw = shuffle(df_raw)   \n",
    "df_raw = shuffle(df_raw)\n",
    "\n",
    "print('The shape of whole dataset after oversampling')\n",
    "print(df_raw.shape)"
   ]
  },
  {
   "cell_type": "code",
   "execution_count": 16,
   "metadata": {},
   "outputs": [
    {
     "name": "stdout",
     "output_type": "stream",
     "text": [
      "Before resample\n",
      "Dataset rows = 152902\n",
      "After resample\n",
      "Dataset rows = 56700\n"
     ]
    }
   ],
   "source": [
    "# undersample on Flag0\n",
    "X_raw = df_raw.drop(['Call_Flag'], axis=1)\n",
    "y_raw = df_raw['Call_Flag']\n",
    "print('Before resample')\n",
    "print('Dataset rows = {}'.format(X_raw.shape[0]))\n",
    "rus = RandomUnderSampler(random_state=42)\n",
    "X_arr, y_arr = rus.fit_resample(X_raw, y_raw)\n",
    "print('After resample')\n",
    "print('Dataset rows = {}'.format(X_arr.shape[0]))"
   ]
  },
  {
   "cell_type": "code",
   "execution_count": 17,
   "metadata": {},
   "outputs": [
    {
     "name": "stdout",
     "output_type": "stream",
     "text": [
      "number of rows in flag 0 sample = 28350\n",
      "number of rows in flag 1 sample = 28350\n"
     ]
    }
   ],
   "source": [
    "X = pd.DataFrame(X_arr, columns=X_raw.columns)\n",
    "y = pd.DataFrame(y_arr, columns=['Call_Flag'])\n",
    "print('number of rows in flag 0 sample = {}'.format(y[y.Call_Flag<1].shape[0]))\n",
    "print('number of rows in flag 1 sample = {}'.format(y[y.Call_Flag>0].shape[0]))"
   ]
  },
  {
   "cell_type": "markdown",
   "metadata": {},
   "source": [
    "Now the dataset is balanced with 1:1 classes ratio"
   ]
  },
  {
   "cell_type": "markdown",
   "metadata": {},
   "source": [
    "# Feature Engineering"
   ]
  },
  {
   "cell_type": "code",
   "execution_count": 18,
   "metadata": {},
   "outputs": [],
   "source": [
    "# check correlation of df_raw\n",
    "df_corr = df_raw.corr()"
   ]
  },
  {
   "cell_type": "code",
   "execution_count": 19,
   "metadata": {},
   "outputs": [
    {
     "name": "stdout",
     "output_type": "stream",
     "text": [
      "                       Tenure  Age  GENDER  CHANNEL1_6M  CHANNEL2_6M  \\\n",
      "Tenure                    1.0  NaN     NaN          NaN          NaN   \n",
      "Age                       NaN  1.0     NaN          NaN          NaN   \n",
      "GENDER                    NaN  NaN     1.0          NaN          NaN   \n",
      "CHANNEL1_6M               NaN  NaN     NaN     1.000000          NaN   \n",
      "CHANNEL2_6M               NaN  NaN     NaN          NaN     1.000000   \n",
      "CHANNEL3_6M               NaN  NaN     NaN          NaN          NaN   \n",
      "CHANNEL4_6M               NaN  NaN     NaN          NaN          NaN   \n",
      "CHANNEL5_6M               NaN  NaN     NaN          NaN          NaN   \n",
      "METHOD1_6M                NaN  NaN     NaN          NaN          NaN   \n",
      "RECENT_PAYMENT            NaN  NaN     NaN          NaN          NaN   \n",
      "PAYMENTS_6M               NaN  NaN     NaN          NaN          NaN   \n",
      "CHANNEL1_3M               NaN  NaN     NaN     0.909384          NaN   \n",
      "CHANNEL2_3M               NaN  NaN     NaN          NaN     0.944045   \n",
      "CHANNEL3_3M               NaN  NaN     NaN          NaN          NaN   \n",
      "CHANNEL4_3M               NaN  NaN     NaN          NaN          NaN   \n",
      "CHANNEL5_3M               NaN  NaN     NaN          NaN          NaN   \n",
      "METHOD1_3M                NaN  NaN     NaN          NaN          NaN   \n",
      "PAYMENTS_3M               NaN  NaN     NaN          NaN          NaN   \n",
      "NOT_DI_3M                 NaN  NaN     NaN          NaN          NaN   \n",
      "NOT_DI_6M                 NaN  NaN     NaN          NaN          NaN   \n",
      "EVENT1_30_FLAG            NaN  NaN     NaN          NaN          NaN   \n",
      "EVENT2_90_SUM             NaN  NaN     NaN          NaN          NaN   \n",
      "LOGINS                    NaN  NaN     NaN          NaN          NaN   \n",
      "POLICYPURCHASECHANNEL     NaN  NaN     NaN          NaN          NaN   \n",
      "Call_Flag                 NaN  NaN     NaN          NaN          NaN   \n",
      "\n",
      "                       CHANNEL3_6M  CHANNEL4_6M  CHANNEL5_6M  METHOD1_6M  \\\n",
      "Tenure                         NaN          NaN          NaN         NaN   \n",
      "Age                            NaN          NaN          NaN         NaN   \n",
      "GENDER                         NaN          NaN          NaN         NaN   \n",
      "CHANNEL1_6M                    NaN          NaN          NaN         NaN   \n",
      "CHANNEL2_6M                    NaN          NaN          NaN         NaN   \n",
      "CHANNEL3_6M                1.00000          NaN          NaN         NaN   \n",
      "CHANNEL4_6M                    NaN     1.000000          NaN         NaN   \n",
      "CHANNEL5_6M                    NaN          NaN      1.00000         NaN   \n",
      "METHOD1_6M                     NaN          NaN          NaN    1.000000   \n",
      "RECENT_PAYMENT                 NaN          NaN          NaN         NaN   \n",
      "PAYMENTS_6M                    NaN          NaN          NaN         NaN   \n",
      "CHANNEL1_3M                    NaN          NaN          NaN         NaN   \n",
      "CHANNEL2_3M                    NaN          NaN          NaN         NaN   \n",
      "CHANNEL3_3M                0.96232          NaN          NaN         NaN   \n",
      "CHANNEL4_3M                    NaN     0.900279          NaN         NaN   \n",
      "CHANNEL5_3M                    NaN          NaN      0.96553         NaN   \n",
      "METHOD1_3M                     NaN          NaN          NaN    0.939931   \n",
      "PAYMENTS_3M                    NaN          NaN          NaN         NaN   \n",
      "NOT_DI_3M                      NaN          NaN          NaN         NaN   \n",
      "NOT_DI_6M                      NaN          NaN          NaN         NaN   \n",
      "EVENT1_30_FLAG                 NaN          NaN          NaN         NaN   \n",
      "EVENT2_90_SUM                  NaN          NaN          NaN         NaN   \n",
      "LOGINS                         NaN          NaN          NaN         NaN   \n",
      "POLICYPURCHASECHANNEL          NaN          NaN          NaN         NaN   \n",
      "Call_Flag                      NaN          NaN          NaN         NaN   \n",
      "\n",
      "                       RECENT_PAYMENT  ...  CHANNEL5_3M  METHOD1_3M  \\\n",
      "Tenure                            NaN  ...          NaN         NaN   \n",
      "Age                               NaN  ...          NaN         NaN   \n",
      "GENDER                            NaN  ...          NaN         NaN   \n",
      "CHANNEL1_6M                       NaN  ...          NaN         NaN   \n",
      "CHANNEL2_6M                       NaN  ...          NaN         NaN   \n",
      "CHANNEL3_6M                       NaN  ...          NaN         NaN   \n",
      "CHANNEL4_6M                       NaN  ...          NaN         NaN   \n",
      "CHANNEL5_6M                       NaN  ...      0.96553         NaN   \n",
      "METHOD1_6M                        NaN  ...          NaN    0.939931   \n",
      "RECENT_PAYMENT                    1.0  ...          NaN         NaN   \n",
      "PAYMENTS_6M                       NaN  ...          NaN         NaN   \n",
      "CHANNEL1_3M                       NaN  ...          NaN         NaN   \n",
      "CHANNEL2_3M                       NaN  ...          NaN         NaN   \n",
      "CHANNEL3_3M                       NaN  ...          NaN         NaN   \n",
      "CHANNEL4_3M                       NaN  ...          NaN         NaN   \n",
      "CHANNEL5_3M                       NaN  ...      1.00000         NaN   \n",
      "METHOD1_3M                        NaN  ...          NaN    1.000000   \n",
      "PAYMENTS_3M                       NaN  ...          NaN         NaN   \n",
      "NOT_DI_3M                         NaN  ...          NaN         NaN   \n",
      "NOT_DI_6M                         NaN  ...          NaN         NaN   \n",
      "EVENT1_30_FLAG                    NaN  ...          NaN         NaN   \n",
      "EVENT2_90_SUM                     NaN  ...          NaN         NaN   \n",
      "LOGINS                            NaN  ...          NaN         NaN   \n",
      "POLICYPURCHASECHANNEL             NaN  ...          NaN         NaN   \n",
      "Call_Flag                         NaN  ...          NaN         NaN   \n",
      "\n",
      "                       PAYMENTS_3M  NOT_DI_3M  NOT_DI_6M  EVENT1_30_FLAG  \\\n",
      "Tenure                         NaN        NaN        NaN             NaN   \n",
      "Age                            NaN        NaN        NaN             NaN   \n",
      "GENDER                         NaN        NaN        NaN             NaN   \n",
      "CHANNEL1_6M                    NaN        NaN        NaN             NaN   \n",
      "CHANNEL2_6M                    NaN        NaN        NaN             NaN   \n",
      "CHANNEL3_6M                    NaN        NaN        NaN             NaN   \n",
      "CHANNEL4_6M                    NaN        NaN        NaN             NaN   \n",
      "CHANNEL5_6M                    NaN        NaN        NaN             NaN   \n",
      "METHOD1_6M                     NaN        NaN        NaN             NaN   \n",
      "RECENT_PAYMENT                 NaN        NaN        NaN             NaN   \n",
      "PAYMENTS_6M               0.869977        NaN        NaN             NaN   \n",
      "CHANNEL1_3M                    NaN        NaN        NaN             NaN   \n",
      "CHANNEL2_3M                    NaN        NaN        NaN             NaN   \n",
      "CHANNEL3_3M                    NaN        NaN        NaN             NaN   \n",
      "CHANNEL4_3M                    NaN        NaN        NaN             NaN   \n",
      "CHANNEL5_3M                    NaN        NaN        NaN             NaN   \n",
      "METHOD1_3M                     NaN        NaN        NaN             NaN   \n",
      "PAYMENTS_3M               1.000000        NaN        NaN             NaN   \n",
      "NOT_DI_3M                      NaN        1.0        NaN             NaN   \n",
      "NOT_DI_6M                      NaN        NaN        1.0             NaN   \n",
      "EVENT1_30_FLAG                 NaN        NaN        NaN             NaN   \n",
      "EVENT2_90_SUM                  NaN        NaN        NaN             NaN   \n",
      "LOGINS                         NaN        NaN        NaN             NaN   \n",
      "POLICYPURCHASECHANNEL          NaN        NaN        NaN             NaN   \n",
      "Call_Flag                      NaN        NaN        NaN             NaN   \n",
      "\n",
      "                       EVENT2_90_SUM  LOGINS  POLICYPURCHASECHANNEL  Call_Flag  \n",
      "Tenure                           NaN     NaN                    NaN        NaN  \n",
      "Age                              NaN     NaN                    NaN        NaN  \n",
      "GENDER                           NaN     NaN                    NaN        NaN  \n",
      "CHANNEL1_6M                      NaN     NaN                    NaN        NaN  \n",
      "CHANNEL2_6M                      NaN     NaN                    NaN        NaN  \n",
      "CHANNEL3_6M                      NaN     NaN                    NaN        NaN  \n",
      "CHANNEL4_6M                      NaN     NaN                    NaN        NaN  \n",
      "CHANNEL5_6M                      NaN     NaN                    NaN        NaN  \n",
      "METHOD1_6M                       NaN     NaN                    NaN        NaN  \n",
      "RECENT_PAYMENT                   NaN     NaN                    NaN        NaN  \n",
      "PAYMENTS_6M                      NaN     NaN                    NaN        NaN  \n",
      "CHANNEL1_3M                      NaN     NaN                    NaN        NaN  \n",
      "CHANNEL2_3M                      NaN     NaN                    NaN        NaN  \n",
      "CHANNEL3_3M                      NaN     NaN                    NaN        NaN  \n",
      "CHANNEL4_3M                      NaN     NaN                    NaN        NaN  \n",
      "CHANNEL5_3M                      NaN     NaN                    NaN        NaN  \n",
      "METHOD1_3M                       NaN     NaN                    NaN        NaN  \n",
      "PAYMENTS_3M                      NaN     NaN                    NaN        NaN  \n",
      "NOT_DI_3M                        NaN     NaN                    NaN        NaN  \n",
      "NOT_DI_6M                        NaN     NaN                    NaN        NaN  \n",
      "EVENT1_30_FLAG                   NaN     NaN                    NaN        NaN  \n",
      "EVENT2_90_SUM                    1.0     NaN                    NaN        NaN  \n",
      "LOGINS                           NaN     1.0                    NaN        NaN  \n",
      "POLICYPURCHASECHANNEL            NaN     NaN                    1.0        NaN  \n",
      "Call_Flag                        NaN     NaN                    NaN        1.0  \n",
      "\n",
      "[25 rows x 25 columns]\n"
     ]
    }
   ],
   "source": [
    "# filter out elements which are greater than 0.85\n",
    "print(df_corr[df_corr.iloc[:,:]>0.85])"
   ]
  },
  {
   "cell_type": "markdown",
   "metadata": {},
   "source": [
    "From the correlation matrix, several columns are strongly correlated.\n",
    "\n",
    "Below are strongly correlated features:\n",
    "  \n",
    "    CHANNEL1_3M vs.\tCHANNEL1_6M  \n",
    "    CHANNEL2_3M vs.\tCHANNEL2_6M \n",
    "    CHANNEL3_3M vs.\tCHANNEL3_6M  \n",
    "    CHANNEL4_3M vs.\tCHANNEL4_6M \n",
    "    CHANNEL5_3M vs.\tCHANNEL5_6M  \n",
    "    METHOD1_3M  vs. METHOD1_6M\n",
    "    PAYMENTS_3M vs. PAYMENTS_6M\n",
    "\n",
    "To keep principal features and keep analysis simple, I will drop the features with 6M because more recent features 3M are more relevant to cunsumers' behaviors"
   ]
  },
  {
   "cell_type": "code",
   "execution_count": 20,
   "metadata": {},
   "outputs": [],
   "source": [
    "X.drop(['CHANNEL1_6M'], axis=1, inplace=True)\n",
    "X.drop(['CHANNEL2_6M'], axis=1, inplace=True)\n",
    "X.drop(['CHANNEL3_6M'], axis=1, inplace=True)\n",
    "X.drop(['CHANNEL4_6M'], axis=1, inplace=True)\n",
    "X.drop(['CHANNEL5_6M'], axis=1, inplace=True)\n",
    "X.drop(['METHOD1_6M'], axis=1, inplace=True)\n",
    "X.drop(['PAYMENTS_6M'], axis=1, inplace=True)"
   ]
  },
  {
   "cell_type": "code",
   "execution_count": 21,
   "metadata": {},
   "outputs": [],
   "source": [
    "df_raw.drop(['CHANNEL1_6M'], axis=1, inplace=True)\n",
    "df_raw.drop(['CHANNEL2_6M'], axis=1, inplace=True)\n",
    "df_raw.drop(['CHANNEL3_6M'], axis=1, inplace=True)\n",
    "df_raw.drop(['CHANNEL4_6M'], axis=1, inplace=True)\n",
    "df_raw.drop(['CHANNEL5_6M'], axis=1, inplace=True)\n",
    "df_raw.drop(['METHOD1_6M'], axis=1, inplace=True)\n",
    "df_raw.drop(['PAYMENTS_6M'], axis=1, inplace=True)"
   ]
  },
  {
   "cell_type": "code",
   "execution_count": 22,
   "metadata": {},
   "outputs": [
    {
     "data": {
      "image/png": "[encoded data removed]",
      "text/plain": [
       "<Figure size 432x288 with 2 Axes>"
      ]
     },
     "metadata": {
      "needs_background": "light"
     },
     "output_type": "display_data"
    }
   ],
   "source": [
    "# Heatmap of correlation of features\n",
    "corr = df_raw.corr()\n",
    "sns.heatmap(corr)\n",
    "plt.show()"
   ]
  },
  {
   "cell_type": "markdown",
   "metadata": {},
   "source": [
    "# Build Model & Model Validation"
   ]
  },
  {
   "cell_type": "code",
   "execution_count": 23,
   "metadata": {},
   "outputs": [],
   "source": [
    "# split train & test dataset\n",
    "trainSize = int(0.75*(X.shape[0]))\n",
    "X_train, X_test, y_train, y_test = train_test_split(X, y, train_size=trainSize, random_state=24)"
   ]
  },
  {
   "cell_type": "markdown",
   "metadata": {},
   "source": [
    "# Random Forest Model"
   ]
  },
  {
   "cell_type": "code",
   "execution_count": 24,
   "metadata": {},
   "outputs": [
    {
     "name": "stdout",
     "output_type": "stream",
     "text": [
      "Fitting 4 folds for each of 54 candidates, totalling 216 fits\n"
     ]
    },
    {
     "name": "stderr",
     "output_type": "stream",
     "text": [
      "[Parallel(n_jobs=4)]: Using backend LokyBackend with 4 concurrent workers.\n",
      "[Parallel(n_jobs=4)]: Done  42 tasks      | elapsed:    8.3s\n",
      "[Parallel(n_jobs=4)]: Done 192 tasks      | elapsed:   34.1s\n",
      "[Parallel(n_jobs=4)]: Done 216 out of 216 | elapsed:   38.6s finished\n",
      "/opt/anaconda3/lib/python3.7/site-packages/sklearn/model_selection/_search.py:765: DataConversionWarning: A column-vector y was passed when a 1d array was expected. Please change the shape of y to (n_samples,), for example using ravel().\n",
      "  self.best_estimator_.fit(X, y, **fit_params)\n"
     ]
    },
    {
     "name": "stdout",
     "output_type": "stream",
     "text": [
      "Train Dataset score 0.9990828924162257\n",
      "Test Dataset score 0.9597883597883597\n"
     ]
    }
   ],
   "source": [
    "score = make_scorer(roc_auc_score)\n",
    "parameters = {'n_estimators':(10,15,20),\n",
    "              'criterion':('gini','entropy'),\n",
    "              'min_samples_split':(2,3,4),\n",
    "              'min_samples_leaf':(1,2,3)}\n",
    "rfc = RandomForestClassifier(random_state=42, warm_start=False, class_weight='balanced')\n",
    "grid_obj = GridSearchCV(rfc, param_grid=parameters, scoring=score, verbose=1, n_jobs=4, cv=4)\n",
    "grid_obj = grid_obj.fit(X_train, y_train)\n",
    "rfc = grid_obj.best_estimator_\n",
    "\n",
    "print('Train Dataset score {}'.format(rfc.score(X_train, y_train)))\n",
    "print('Test Dataset score {}'.format(rfc.score(X_test, y_test)))"
   ]
  },
  {
   "cell_type": "code",
   "execution_count": 25,
   "metadata": {},
   "outputs": [
    {
     "name": "stderr",
     "output_type": "stream",
     "text": [
      "/opt/anaconda3/lib/python3.7/site-packages/sklearn/model_selection/_validation.py:531: DataConversionWarning: A column-vector y was passed when a 1d array was expected. Please change the shape of y to (n_samples,), for example using ravel().\n",
      "  estimator.fit(X_train, y_train, **fit_params)\n",
      "/opt/anaconda3/lib/python3.7/site-packages/sklearn/model_selection/_validation.py:531: DataConversionWarning: A column-vector y was passed when a 1d array was expected. Please change the shape of y to (n_samples,), for example using ravel().\n",
      "  estimator.fit(X_train, y_train, **fit_params)\n",
      "/opt/anaconda3/lib/python3.7/site-packages/sklearn/model_selection/_validation.py:531: DataConversionWarning: A column-vector y was passed when a 1d array was expected. Please change the shape of y to (n_samples,), for example using ravel().\n",
      "  estimator.fit(X_train, y_train, **fit_params)\n",
      "/opt/anaconda3/lib/python3.7/site-packages/sklearn/model_selection/_validation.py:531: DataConversionWarning: A column-vector y was passed when a 1d array was expected. Please change the shape of y to (n_samples,), for example using ravel().\n",
      "  estimator.fit(X_train, y_train, **fit_params)\n"
     ]
    },
    {
     "data": {
      "text/plain": [
       "array([0.93961625, 0.93829367, 0.94055122, 0.93942244])"
      ]
     },
     "execution_count": 25,
     "metadata": {},
     "output_type": "execute_result"
    }
   ],
   "source": [
    "cross_val_score(rfc, X_train, y_train, cv=4)"
   ]
  },
  {
   "cell_type": "code",
   "execution_count": 26,
   "metadata": {},
   "outputs": [
    {
     "name": "stdout",
     "output_type": "stream",
     "text": [
      "[[21157    39]\n",
      " [    0 21329]]\n"
     ]
    }
   ],
   "source": [
    "# confusion matrix\n",
    "conf_mat = confusion_matrix(y_train, rfc.predict(X_train))\n",
    "print(conf_mat)"
   ]
  },
  {
   "cell_type": "code",
   "execution_count": 27,
   "metadata": {},
   "outputs": [
    {
     "name": "stdout",
     "output_type": "stream",
     "text": [
      "              precision    recall  f1-score   support\n",
      "\n",
      "           0       1.00      0.92      0.96      7154\n",
      "           1       0.92      1.00      0.96      7021\n",
      "\n",
      "    accuracy                           0.96     14175\n",
      "   macro avg       0.96      0.96      0.96     14175\n",
      "weighted avg       0.96      0.96      0.96     14175\n",
      "\n"
     ]
    }
   ],
   "source": [
    "print(classification_report(y_test, rfc.predict(X_test)))"
   ]
  },
  {
   "cell_type": "markdown",
   "metadata": {},
   "source": [
    "# GBDT Model"
   ]
  },
  {
   "cell_type": "code",
   "execution_count": 28,
   "metadata": {},
   "outputs": [
    {
     "name": "stdout",
     "output_type": "stream",
     "text": [
      "Fitting 4 folds for each of 54 candidates, totalling 216 fits\n"
     ]
    },
    {
     "name": "stderr",
     "output_type": "stream",
     "text": [
      "[Parallel(n_jobs=4)]: Using backend LokyBackend with 4 concurrent workers.\n",
      "[Parallel(n_jobs=4)]: Done  42 tasks      | elapsed:   44.2s\n",
      "[Parallel(n_jobs=4)]: Done 192 tasks      | elapsed:  3.2min\n",
      "[Parallel(n_jobs=4)]: Done 216 out of 216 | elapsed:  3.6min finished\n",
      "/opt/anaconda3/lib/python3.7/site-packages/sklearn/utils/validation.py:73: DataConversionWarning: A column-vector y was passed when a 1d array was expected. Please change the shape of y to (n_samples, ), for example using ravel().\n",
      "  return f(**kwargs)\n"
     ]
    },
    {
     "name": "stdout",
     "output_type": "stream",
     "text": [
      "Train Dataset score 0.8281011169900059\n",
      "Test Dataset score 0.8026807760141094\n"
     ]
    }
   ],
   "source": [
    "score = make_scorer(roc_auc_score)\n",
    "parameters = {'loss':('deviance','exponential'),\n",
    "              'learning_rate':(0.01,0.1,1.0),\n",
    "              'min_samples_split':(2,3,4),\n",
    "              'min_samples_leaf':(1,2,3)}\n",
    "GBDT = GradientBoostingClassifier(random_state=42, warm_start=False)\n",
    "grid_obj = GridSearchCV(GBDT, param_grid=parameters, scoring=score, verbose=1, n_jobs=4, cv=4)\n",
    "grid_obj = grid_obj.fit(X_train, y_train)\n",
    "GBDT = grid_obj.best_estimator_\n",
    "\n",
    "print('Train Dataset score {}'.format(GBDT.score(X_train, y_train)))\n",
    "print('Test Dataset score {}'.format(GBDT.score(X_test, y_test)))"
   ]
  },
  {
   "cell_type": "code",
   "execution_count": 29,
   "metadata": {},
   "outputs": [
    {
     "name": "stdout",
     "output_type": "stream",
     "text": [
      "              precision    recall  f1-score   support\n",
      "\n",
      "           0       0.83      0.77      0.80      7154\n",
      "           1       0.78      0.84      0.81      7021\n",
      "\n",
      "    accuracy                           0.80     14175\n",
      "   macro avg       0.80      0.80      0.80     14175\n",
      "weighted avg       0.80      0.80      0.80     14175\n",
      "\n"
     ]
    }
   ],
   "source": [
    "print(classification_report(y_test, GBDT.predict(X_test)))"
   ]
  },
  {
   "cell_type": "markdown",
   "metadata": {},
   "source": [
    "# KNN Model"
   ]
  },
  {
   "cell_type": "code",
   "execution_count": 30,
   "metadata": {},
   "outputs": [
    {
     "name": "stdout",
     "output_type": "stream",
     "text": [
      "Fitting 4 folds for each of 16 candidates, totalling 64 fits\n"
     ]
    },
    {
     "name": "stderr",
     "output_type": "stream",
     "text": [
      "[Parallel(n_jobs=4)]: Using backend LokyBackend with 4 concurrent workers.\n",
      "[Parallel(n_jobs=4)]: Done  42 tasks      | elapsed:   16.2s\n",
      "[Parallel(n_jobs=4)]: Done  64 out of  64 | elapsed:   23.7s finished\n",
      "/opt/anaconda3/lib/python3.7/site-packages/sklearn/model_selection/_search.py:765: DataConversionWarning: A column-vector y was passed when a 1d array was expected. Please change the shape of y to (n_samples, ), for example using ravel().\n",
      "  self.best_estimator_.fit(X, y, **fit_params)\n"
     ]
    },
    {
     "name": "stdout",
     "output_type": "stream",
     "text": [
      "Train Dataset score 0.9997883597883598\n",
      "Test Dataset score 0.8428924162257495\n"
     ]
    }
   ],
   "source": [
    "parameters = {'n_neighbors':(5,10,15,20),\n",
    "              'weights':('uniform','distance'),\n",
    "              'p':(1,2)}\n",
    "\n",
    "knn = KNeighborsClassifier()\n",
    "grid_obj = GridSearchCV(knn, param_grid=parameters, scoring=score, verbose=1, n_jobs=4, cv=4)\n",
    "grid_obj = grid_obj.fit(X_train, y_train)\n",
    "knn = grid_obj.best_estimator_\n",
    "\n",
    "print('Train Dataset score {}'.format(knn.score(X_train, y_train)))\n",
    "print('Test Dataset score {}'.format(knn.score(X_test, y_test)))"
   ]
  },
  {
   "cell_type": "code",
   "execution_count": 31,
   "metadata": {},
   "outputs": [
    {
     "name": "stdout",
     "output_type": "stream",
     "text": [
      "              precision    recall  f1-score   support\n",
      "\n",
      "           0       1.00      0.69      0.82      7154\n",
      "           1       0.76      1.00      0.86      7021\n",
      "\n",
      "    accuracy                           0.84     14175\n",
      "   macro avg       0.88      0.84      0.84     14175\n",
      "weighted avg       0.88      0.84      0.84     14175\n",
      "\n"
     ]
    }
   ],
   "source": [
    "print(classification_report(y_test, knn.predict(X_test)))"
   ]
  },
  {
   "cell_type": "markdown",
   "metadata": {},
   "source": [
    "# Result Analysis: \n",
    "\n",
    "After comparing performance of three classifier below, the Random Forest performs best among three models.\n",
    "Also, it's speed is faster than GBDT method."
   ]
  },
  {
   "cell_type": "code",
   "execution_count": null,
   "metadata": {},
   "outputs": [],
   "source": []
  }
 ],
 "metadata": {
  "kernelspec": {
   "display_name": "Python 3",
   "language": "python",
   "name": "python3"
  },
  "language_info": {
   "codemirror_mode": {
    "name": "ipython",
    "version": 3
   },
   "file_extension": ".py",
   "mimetype": "text/x-python",
   "name": "python",
   "nbconvert_exporter": "python",
   "pygments_lexer": "ipython3",
   "version": "3.7.4"
  }
 },
 "nbformat": 4,
 "nbformat_minor": 2
}
